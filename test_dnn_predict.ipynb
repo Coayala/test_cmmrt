{
 "cells": [
  {
   "cell_type": "code",
   "execution_count": 1,
   "id": "22c96b4c",
   "metadata": {},
   "outputs": [],
   "source": [
    "import argparse\n",
    "import pickle\n",
    "import os\n",
    "\n",
    "import numpy as np\n",
    "import pandas as pd"
   ]
  },
  {
   "cell_type": "code",
   "execution_count": 2,
   "id": "55d7b5f6",
   "metadata": {},
   "outputs": [],
   "source": [
    "def create_parser():\n",
    "    parser = argparse.ArgumentParser(description=\"predict with DNN\")\n",
    "    parser.add_argument('--fingerprints', type=str, help='CSV with the fingerprints to predict', required=True)\n",
    "    parser.add_argument('--dnn', type=str, help='pickled dnn', required=True)\n",
    "    parser.add_argument('--preproc', type=str, help='pickled preproc', required=True)\n",
    "    parser.add_argument('--save_to', type=str, help='save resulting dataframe to this CSV file', required=True)\n",
    "    return parser"
   ]
  },
  {
   "cell_type": "code",
   "execution_count": 3,
   "id": "a6fb7f95",
   "metadata": {},
   "outputs": [],
   "source": [
    "parser = create_parser()\n",
    "args = parser.parse_args(['--fingerprints', 'data/CMM_vectorfingerprints.csv',\n",
    "                         '--preproc', os.path.join('data', 'saved_models', 'v0', 'preprocessor.pkl'),\n",
    "                         '--dnn', os.path.join('data', 'saved_models', 'v0', 'dnn.pkl'),\n",
    "                         '--save_to', 'res1'])"
   ]
  },
  {
   "cell_type": "code",
   "execution_count": 7,
   "id": "96f23326",
   "metadata": {},
   "outputs": [],
   "source": [
    "fingerprints = pd.read_csv(args.fingerprints, dtype={'pid': str})\n",
    "pid = fingerprints.pid.values\n",
    "cmm_id = fingerprints.CMM_id.values\n",
    "fingerprints = fingerprints[[col for col in fingerprints.columns if col not in ['pid', 'CMM_id']]].values\n",
    "fingerprints = fingerprints.astype(np.float32)"
   ]
  },
  {
   "cell_type": "code",
   "execution_count": 8,
   "id": "efc10560",
   "metadata": {},
   "outputs": [
    {
     "name": "stderr",
     "output_type": "stream",
     "text": [
      "/home/exouser/.local/lib/python3.9/site-packages/xgboost/compat.py:31: FutureWarning: pandas.Int64Index is deprecated and will be removed from pandas in a future version. Use pandas.Index with the appropriate dtype instead.\n",
      "  from pandas import MultiIndex, Int64Index\n",
      "/software/u22/anaconda/python3.9/lib/python3.9/site-packages/sklearn/base.py:329: UserWarning: Trying to unpickle estimator VarianceThreshold from version 1.0.1 when using version 1.0.2. This might lead to breaking code or invalid results. Use at your own risk. For more info please refer to:\n",
      "https://scikit-learn.org/stable/modules/model_persistence.html#security-maintainability-limitations\n",
      "  warnings.warn(\n"
     ]
    }
   ],
   "source": [
    "with open(args.preproc, 'rb') as f:\n",
    "    preprocessor = pickle.load(f)"
   ]
  },
  {
   "cell_type": "code",
   "execution_count": 9,
   "id": "1308bd5d",
   "metadata": {},
   "outputs": [],
   "source": [
    "preprocessor.fgp_cols = np.arange(fingerprints.shape[1])"
   ]
  },
  {
   "cell_type": "code",
   "execution_count": 10,
   "id": "afc59197",
   "metadata": {},
   "outputs": [
    {
     "name": "stderr",
     "output_type": "stream",
     "text": [
      "/software/u22/anaconda/python3.9/lib/python3.9/site-packages/sklearn/base.py:329: UserWarning: Trying to unpickle estimator ColumnTransformer from version 1.0.1 when using version 1.0.2. This might lead to breaking code or invalid results. Use at your own risk. For more info please refer to:\n",
      "https://scikit-learn.org/stable/modules/model_persistence.html#security-maintainability-limitations\n",
      "  warnings.warn(\n",
      "/software/u22/anaconda/python3.9/lib/python3.9/site-packages/sklearn/base.py:329: UserWarning: Trying to unpickle estimator Pipeline from version 1.0.1 when using version 1.0.2. This might lead to breaking code or invalid results. Use at your own risk. For more info please refer to:\n",
      "https://scikit-learn.org/stable/modules/model_persistence.html#security-maintainability-limitations\n",
      "  warnings.warn(\n",
      "/software/u22/anaconda/python3.9/lib/python3.9/site-packages/sklearn/base.py:329: UserWarning: Trying to unpickle estimator QuantileTransformer from version 1.0.1 when using version 1.0.2. This might lead to breaking code or invalid results. Use at your own risk. For more info please refer to:\n",
      "https://scikit-learn.org/stable/modules/model_persistence.html#security-maintainability-limitations\n",
      "  warnings.warn(\n",
      "/software/u22/anaconda/python3.9/lib/python3.9/site-packages/sklearn/base.py:329: UserWarning: Trying to unpickle estimator TransformedTargetRegressor from version 1.0.1 when using version 1.0.2. This might lead to breaking code or invalid results. Use at your own risk. For more info please refer to:\n",
      "https://scikit-learn.org/stable/modules/model_persistence.html#security-maintainability-limitations\n",
      "  warnings.warn(\n"
     ]
    }
   ],
   "source": [
    "with open(args.dnn, 'rb') as f:\n",
    "    dnn = pickle.load(f)"
   ]
  },
  {
   "cell_type": "code",
   "execution_count": 11,
   "id": "afc7d1b3",
   "metadata": {},
   "outputs": [],
   "source": [
    "X_preprocessed = preprocessor.transform(fingerprints)"
   ]
  },
  {
   "cell_type": "code",
   "execution_count": 12,
   "id": "fb45b478",
   "metadata": {},
   "outputs": [],
   "source": [
    "predictions = dnn.predict(X_preprocessed)"
   ]
  },
  {
   "cell_type": "code",
   "execution_count": 13,
   "id": "2ca20338",
   "metadata": {},
   "outputs": [],
   "source": [
    "results = pd.DataFrame({\n",
    "        'pid': pid,\n",
    "        'cmm_id': cmm_id,\n",
    "        'prediction': predictions\n",
    "    })"
   ]
  },
  {
   "cell_type": "code",
   "execution_count": 14,
   "id": "e57539b8",
   "metadata": {},
   "outputs": [
    {
     "data": {
      "text/html": [
       "<div>\n",
       "<style scoped>\n",
       "    .dataframe tbody tr th:only-of-type {\n",
       "        vertical-align: middle;\n",
       "    }\n",
       "\n",
       "    .dataframe tbody tr th {\n",
       "        vertical-align: top;\n",
       "    }\n",
       "\n",
       "    .dataframe thead th {\n",
       "        text-align: right;\n",
       "    }\n",
       "</style>\n",
       "<table border=\"1\" class=\"dataframe\">\n",
       "  <thead>\n",
       "    <tr style=\"text-align: right;\">\n",
       "      <th></th>\n",
       "      <th>pid</th>\n",
       "      <th>cmm_id</th>\n",
       "      <th>prediction</th>\n",
       "    </tr>\n",
       "  </thead>\n",
       "  <tbody>\n",
       "    <tr>\n",
       "      <th>0</th>\n",
       "      <td>647</td>\n",
       "      <td>1</td>\n",
       "      <td>665.094727</td>\n",
       "    </tr>\n",
       "    <tr>\n",
       "      <th>1</th>\n",
       "      <td>1195</td>\n",
       "      <td>2</td>\n",
       "      <td>608.965210</td>\n",
       "    </tr>\n",
       "    <tr>\n",
       "      <th>2</th>\n",
       "      <td>5281976</td>\n",
       "      <td>3</td>\n",
       "      <td>585.646362</td>\n",
       "    </tr>\n",
       "    <tr>\n",
       "      <th>3</th>\n",
       "      <td>445995</td>\n",
       "      <td>4</td>\n",
       "      <td>795.100159</td>\n",
       "    </tr>\n",
       "    <tr>\n",
       "      <th>4</th>\n",
       "      <td>5280528</td>\n",
       "      <td>5</td>\n",
       "      <td>795.100159</td>\n",
       "    </tr>\n",
       "  </tbody>\n",
       "</table>\n",
       "</div>"
      ],
      "text/plain": [
       "       pid  cmm_id  prediction\n",
       "0      647       1  665.094727\n",
       "1     1195       2  608.965210\n",
       "2  5281976       3  585.646362\n",
       "3   445995       4  795.100159\n",
       "4  5280528       5  795.100159"
      ]
     },
     "execution_count": 14,
     "metadata": {},
     "output_type": "execute_result"
    }
   ],
   "source": [
    "results.head()"
   ]
  },
  {
   "cell_type": "code",
   "execution_count": 21,
   "id": "61f7407d",
   "metadata": {},
   "outputs": [],
   "source": [
    "results.to_csv('results/predicted_rt_db.csv')"
   ]
  }
 ],
 "metadata": {
  "kernelspec": {
   "display_name": "Python 3 (ipykernel)",
   "language": "python",
   "name": "python3"
  },
  "language_info": {
   "codemirror_mode": {
    "name": "ipython",
    "version": 3
   },
   "file_extension": ".py",
   "mimetype": "text/x-python",
   "name": "python",
   "nbconvert_exporter": "python",
   "pygments_lexer": "ipython3",
   "version": "3.9.13"
  }
 },
 "nbformat": 4,
 "nbformat_minor": 5
}
